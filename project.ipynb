{
 "cells": [
  {
   "cell_type": "code",
   "outputs": [],
   "source": [
    "from tqdm import tqdm\n",
    "import numpy as np\n",
    "import pandas as pd\n",
    "import torch\n",
    "from torch_geometric.utils import negative_sampling\n",
    "import networkx as nx\n",
    "import math\n",
    "from random import choice\n",
    "from functools import lru_cache\n",
    "from sympy import prime\n",
    "from sklearn.linear_model import LogisticRegression\n",
    "from sklearn.metrics import accuracy_score, classification_report"
   ],
   "metadata": {
    "collapsed": false
   },
   "id": "56109874e81e71e6",
   "execution_count": null
  },
  {
   "cell_type": "code",
   "execution_count": 2,
   "id": "ebc8fe77-154b-4865-b354-8574011351fc",
   "metadata": {
    "ExecuteTime": {
     "end_time": "2024-02-07T08:23:05.717548500Z",
     "start_time": "2024-02-07T08:23:05.671733500Z"
    }
   },
   "outputs": [],
   "source": [
    "with open('musae_ES/musae_ES_train.edgelist', 'r') as file:\n",
    "    lines = file.readlines()\n",
    "\n",
    "train_edges = []\n",
    "\n",
    "for line in lines:\n",
    "    elements = line.strip().split()\n",
    "    edge = (int(elements[0]), int(elements[1]))\n",
    "    train_edges.append(edge)"
   ]
  },
  {
   "cell_type": "code",
   "execution_count": 3,
   "id": "4be4a140-27be-44ce-b8af-6f83e00a0ac1",
   "metadata": {
    "ExecuteTime": {
     "end_time": "2024-02-07T08:23:05.730959100Z",
     "start_time": "2024-02-07T08:23:05.718549500Z"
    }
   },
   "outputs": [],
   "source": [
    "def enclosing_subgraph_nodes(G, x, y, K):\n",
    "    F = {x, y}\n",
    "    enc = [x, y]\n",
    "\n",
    "    while len(enc) < K:\n",
    "        new_neighbors = set()\n",
    "        for node in F:\n",
    "            neighbors = [v for v in list(G.neighbors(node)) if v not in F and v not in enc]\n",
    "            new_neighbors.update(neighbors)\n",
    "\n",
    "        if not new_neighbors:\n",
    "            break  # Break if no new neighbors are found\n",
    "\n",
    "        enc.extend(new_neighbors)\n",
    "        F = new_neighbors\n",
    "\n",
    "    # Trim down or add random dummy nodes as needed\n",
    "    if len(enc) > K:\n",
    "        enc = enc[:K]\n",
    "    elif len(enc) < K:\n",
    "        while len(enc) < K:\n",
    "            random_dummy_node = choice([node for node in G.nodes() if node not in enc])\n",
    "            enc.append(random_dummy_node)\n",
    "\n",
    "    return enc"
   ]
  },
  {
   "cell_type": "code",
   "execution_count": 4,
   "id": "4cc4ca62-fceb-4446-9f0d-c89dd2c676ad",
   "metadata": {
    "ExecuteTime": {
     "end_time": "2024-02-07T08:23:05.755870600Z",
     "start_time": "2024-02-07T08:23:05.734070200Z"
    }
   },
   "outputs": [],
   "source": [
    "def initialize_colors(H, x, y):\n",
    "    # to get initial colors, first need to calculate sqrt(d(v,x)*d(v,y)) for all v in node set\n",
    "    mean_distances = {}\n",
    "    for v in H.nodes():\n",
    "        if nx.has_path(H, v, x) and nx.has_path(H, v, y):\n",
    "            distance = math.sqrt(len(nx.shortest_path(H, v, x)) * len(nx.shortest_path(H, v, y)))\n",
    "            mean_distances[v] = distance\n",
    "        else:\n",
    "            # Handle the case when there is no path between v and x or v and y\n",
    "            mean_distances[v] = float('inf')  # or any other appropriate value\n",
    "\n",
    "    # then need to map distances to colors s.t. only x=y=1 while all others get at least 2\n",
    "    # depending on their mean distance\n",
    "\n",
    "    initial_coloring = {x: 1, y: 1}\n",
    "\n",
    "    ordering = sorted(set(mean_distances.values()))[1:]\n",
    "\n",
    "    for v in H.nodes():\n",
    "        if v not in {x, y}:\n",
    "            initial_coloring[v] = 2 + ordering.index(mean_distances[v])\n",
    "\n",
    "    return initial_coloring\n"
   ]
  },
  {
   "cell_type": "code",
   "execution_count": 5,
   "id": "9095df6c-62e9-4457-8096-84421ecb7bcc",
   "metadata": {
    "ExecuteTime": {
     "end_time": "2024-02-07T08:23:05.765349800Z",
     "start_time": "2024-02-07T08:23:05.749714100Z"
    }
   },
   "outputs": [],
   "source": [
    "@lru_cache(maxsize=None)\n",
    "def hash_fun(v, H, **kwargs):\n",
    "    current_color_v = kwargs[str(v)]\n",
    "\n",
    "    all_mapping = {z: math.log(prime(kwargs[z])) for z in kwargs.keys()}\n",
    "    neighborhood_mapping = {z: all_mapping[str(z)] for z in H.neighbors(v)}\n",
    "\n",
    "    sum_all_mapping = sum(all_mapping.values())\n",
    "    sum_neighborhood_mapping = sum(neighborhood_mapping.values())\n",
    "\n",
    "    return current_color_v + sum_neighborhood_mapping / math.ceil(sum_all_mapping)"
   ]
  },
  {
   "cell_type": "code",
   "execution_count": 6,
   "id": "82fe32ec-20ba-4783-9491-3596e4eeaa87",
   "metadata": {
    "ExecuteTime": {
     "end_time": "2024-02-07T08:23:05.783144900Z",
     "start_time": "2024-02-07T08:23:05.764249100Z"
    }
   },
   "outputs": [],
   "source": [
    "# single iteration of palette_wl, returns colors (doesn't mutate H labels)\n",
    "def refine(color_dict, H):\n",
    "    hashes = {v:hash_fun(v, H, **{str(k): v for k, v in color_dict.items()}) for v in color_dict.keys()}\n",
    "\n",
    "    coloring = {}\n",
    "\n",
    "    ordering = sorted(set(hashes.values()))\n",
    "\n",
    "    for v in color_dict.keys():\n",
    "      coloring[v] = ordering.index(hashes[v]) + 1\n",
    "\n",
    "    return coloring"
   ]
  },
  {
   "cell_type": "code",
   "execution_count": 7,
   "id": "c22036a9-608c-4d24-9849-917b7af6d425",
   "metadata": {
    "ExecuteTime": {
     "end_time": "2024-02-07T08:23:05.793623500Z",
     "start_time": "2024-02-07T08:23:05.780025900Z"
    }
   },
   "outputs": [],
   "source": [
    "# 'color' attributes of H are NOT mutated by this fn either\n",
    "def palette_wl(color_dict, H):\n",
    "  num_iter = 0\n",
    "  \n",
    "  while True:\n",
    "    new_color_dict = refine(color_dict, H)\n",
    "\n",
    "    # convergence condition\n",
    "    if color_dict == new_color_dict:\n",
    "      break\n",
    "    else:\n",
    "      color_dict = new_color_dict\n",
    "      num_iter += 1\n",
    "\n",
    "  return color_dict\n",
    "    \n",
    "  # print(f'Converged in {num_iter} iterations')"
   ]
  },
  {
   "cell_type": "code",
   "execution_count": 8,
   "id": "25efe0bb-c4b5-4270-8e58-9d325a89248d",
   "metadata": {
    "ExecuteTime": {
     "end_time": "2024-02-07T08:23:05.819775600Z",
     "start_time": "2024-02-07T08:23:05.795769300Z"
    }
   },
   "outputs": [],
   "source": [
    "def break_ties(color_dict):\n",
    "    reversed_mapping = {}  # to keep track of nodes with the same color\n",
    "    new_color = max(color_dict.values()) + 1  # start assigning new colors\n",
    "\n",
    "    for node, color in color_dict.items():\n",
    "        if color in reversed_mapping:\n",
    "            # node with the same color already encountered\n",
    "            # assign a new color and update the mapping\n",
    "            color_dict[node] = new_color\n",
    "            new_color += 1\n",
    "        else:\n",
    "            reversed_mapping[color] = node\n",
    "\n",
    "    return color_dict"
   ]
  },
  {
   "cell_type": "code",
   "outputs": [],
   "source": [
    "def process_graph(edge, H):\n",
    "    x,y = edge\n",
    "    initial_color_dict = initialize_colors(H, x, y)\n",
    "    refined_color_dict = palette_wl(initial_color_dict, H)\n",
    "    color_dict_no_ties = break_ties(refined_color_dict)\n",
    "    \n",
    "    sorted_nodes = sorted(color_dict_no_ties, key=color_dict_no_ties.get)\n",
    "    \n",
    "    return nx.to_numpy_array(H, nodelist=sorted_nodes)"
   ],
   "metadata": {
    "collapsed": false,
    "ExecuteTime": {
     "end_time": "2024-02-07T08:23:05.829662500Z",
     "start_time": "2024-02-07T08:23:05.811448500Z"
    }
   },
   "id": "f0c178b721d8a031",
   "execution_count": 9
  },
  {
   "cell_type": "code",
   "outputs": [],
   "source": [
    "def flatten_matrix(matrix, exclude_indices): # exclude (1,0) and (0,1) which encode existence of link\n",
    "    flattened_matrix = []\n",
    "\n",
    "    for i in range(len(matrix)):\n",
    "        for j in range(i + 1, len(matrix[i])):\n",
    "            if (i, j) not in exclude_indices and (j, i) not in exclude_indices:\n",
    "                flattened_matrix.append(matrix[i][j])\n",
    "\n",
    "    return flattened_matrix"
   ],
   "metadata": {
    "collapsed": false,
    "ExecuteTime": {
     "end_time": "2024-02-07T08:23:05.849751500Z",
     "start_time": "2024-02-07T08:23:05.826469400Z"
    }
   },
   "id": "b317dd8540fc3c2",
   "execution_count": 10
  },
  {
   "cell_type": "code",
   "outputs": [],
   "source": [
    "G = nx.from_edgelist(train_edges)\n",
    "G.remove_edges_from(nx.selfloop_edges(G))\n",
    "\n",
    "extracted_subgraphs = {}\n",
    "\n",
    "for (i,j) in train_edges:\n",
    "    if i != j: # ignore self loops\n",
    "        enclo_nodes = enclosing_subgraph_nodes(G, i, j, 10)\n",
    "        H = G.subgraph(enclo_nodes)\n",
    "        extracted_subgraphs[(i,j)] = H"
   ],
   "metadata": {
    "collapsed": false,
    "ExecuteTime": {
     "end_time": "2024-02-07T08:23:08.010383300Z",
     "start_time": "2024-02-07T08:23:05.900206300Z"
    }
   },
   "id": "c36d9d6b6dda4e92",
   "execution_count": 11
  },
  {
   "cell_type": "code",
   "execution_count": 12,
   "id": "1cff0482-bcd1-4bf8-bd3b-d39b053bfb53",
   "metadata": {
    "ExecuteTime": {
     "end_time": "2024-02-07T08:44:32.476603300Z",
     "start_time": "2024-02-07T08:23:08.012482Z"
    }
   },
   "outputs": [
    {
     "name": "stderr",
     "output_type": "stream",
     "text": [
      "100%|██████████| 41692/41692 [21:24<00:00, 32.46it/s]  \n"
     ]
    }
   ],
   "source": [
    "transformed_adj_matrices = {}\n",
    "\n",
    "for edge, H in tqdm(extracted_subgraphs.items()):\n",
    "    transformed_adj_matrices[edge] = process_graph(edge,H)"
   ]
  },
  {
   "cell_type": "markdown",
   "source": [
    "Generate synthetic negative edges (edges not in edges_train) and repeat procedure for them (enclo. subgraph -> sorted adj. matrix). \n",
    "These are used only for training the classifier."
   ],
   "metadata": {
    "collapsed": false
   },
   "id": "3f8c8a52b17e3e70"
  },
  {
   "cell_type": "code",
   "execution_count": 13,
   "id": "9736a249-a880-4707-a09c-28031bb14e90",
   "metadata": {
    "ExecuteTime": {
     "end_time": "2024-02-07T08:53:56.183451Z",
     "start_time": "2024-02-07T08:44:32.476603300Z"
    }
   },
   "outputs": [
    {
     "name": "stderr",
     "output_type": "stream",
     "text": [
      "100%|██████████| 83384/83384 [09:19<00:00, 149.04it/s]\n"
     ]
    }
   ],
   "source": [
    "negative_edges = negative_sampling(torch.as_tensor(np.transpose(train_edges)), force_undirected=False, num_neg_samples=2*len(train_edges))\n",
    "\n",
    "negative_edges_list = []\n",
    "\n",
    "for i in range(len(negative_edges[0])):\n",
    "    negative_edges_list.append((int(negative_edges[0][i]),int(negative_edges[1][i])))\n",
    "\n",
    "G_fake = nx.from_edgelist(train_edges)\n",
    "G_fake.add_edges_from(negative_edges_list)\n",
    "G_fake.remove_edges_from(nx.selfloop_edges(G_fake))\n",
    "\n",
    "extracted_subgraphs_fake = {}\n",
    "\n",
    "for (i,j) in negative_edges_list:\n",
    "    if i != j: # ignore self loops\n",
    "        enclo_nodes = enclosing_subgraph_nodes(G_fake, i, j, 10)\n",
    "        H_fake = G_fake.subgraph(enclo_nodes)\n",
    "        extracted_subgraphs_fake[(i,j)] = H_fake\n",
    "\n",
    "transformed_adj_matrices_fake = {}\n",
    "\n",
    "for edge_fake, H_fake in tqdm(extracted_subgraphs_fake.items()):\n",
    "    transformed_adj_matrices_fake[edge_fake] = process_graph(edge_fake,H_fake)"
   ]
  },
  {
   "cell_type": "code",
   "outputs": [
    {
     "data": {
      "text/plain": "164"
     },
     "execution_count": 14,
     "metadata": {},
     "output_type": "execute_result"
    }
   ],
   "source": [
    "cnt=0\n",
    "for i,j in negative_edges_list:\n",
    "    if G.has_edge(i,j) or G.has_edge(j,i):\n",
    "        cnt+=1 \n",
    "cnt"
   ],
   "metadata": {
    "collapsed": false,
    "ExecuteTime": {
     "end_time": "2024-02-07T08:53:56.253056100Z",
     "start_time": "2024-02-07T08:53:56.186661400Z"
    }
   },
   "id": "7b26ce5757103b7d",
   "execution_count": 14
  },
  {
   "cell_type": "markdown",
   "source": [
    "Prepare training data"
   ],
   "metadata": {
    "collapsed": false
   },
   "id": "b13b3c2c72bff41e"
  },
  {
   "cell_type": "code",
   "execution_count": 15,
   "id": "615b7de5-31b1-4abe-8b41-1f47cf9cb5a3",
   "metadata": {
    "ExecuteTime": {
     "end_time": "2024-02-07T08:53:58.661608400Z",
     "start_time": "2024-02-07T08:53:56.249959500Z"
    }
   },
   "outputs": [],
   "source": [
    "train_data = []\n",
    "\n",
    "for matrix in transformed_adj_matrices.values():\n",
    "    flattened_matrix = flatten_matrix(matrix, {(0, 1), (1, 0)})\n",
    "    train_data.append({'label':1, 'features': flattened_matrix})\n",
    "\n",
    "\n",
    "for matrix in transformed_adj_matrices_fake.values():\n",
    "    flattened_matrix = flatten_matrix(matrix, {(0, 1), (1, 0)})\n",
    "    train_data.append({'label':0, 'features': flattened_matrix})  \n",
    "        \n",
    "\n",
    "train_df = pd.DataFrame(train_data)\n",
    "train_df_shuffled = train_df.iloc[np.random.permutation(len(train_df))].reset_index(drop=True)"
   ]
  },
  {
   "cell_type": "code",
   "execution_count": 16,
   "id": "439e58f4-dee0-498f-a9f5-f70b21ade04e",
   "metadata": {
    "ExecuteTime": {
     "end_time": "2024-02-07T08:53:59.655853500Z",
     "start_time": "2024-02-07T08:53:58.662644500Z"
    }
   },
   "outputs": [
    {
     "data": {
      "text/plain": "LogisticRegression(solver='liblinear')",
      "text/html": "<style>#sk-container-id-1 {\n  /* Definition of color scheme common for light and dark mode */\n  --sklearn-color-text: black;\n  --sklearn-color-line: gray;\n  /* Definition of color scheme for unfitted estimators */\n  --sklearn-color-unfitted-level-0: #fff5e6;\n  --sklearn-color-unfitted-level-1: #f6e4d2;\n  --sklearn-color-unfitted-level-2: #ffe0b3;\n  --sklearn-color-unfitted-level-3: chocolate;\n  /* Definition of color scheme for fitted estimators */\n  --sklearn-color-fitted-level-0: #f0f8ff;\n  --sklearn-color-fitted-level-1: #d4ebff;\n  --sklearn-color-fitted-level-2: #b3dbfd;\n  --sklearn-color-fitted-level-3: cornflowerblue;\n\n  /* Specific color for light theme */\n  --sklearn-color-text-on-default-background: var(--sg-text-color, var(--theme-code-foreground, var(--jp-content-font-color1, black)));\n  --sklearn-color-background: var(--sg-background-color, var(--theme-background, var(--jp-layout-color0, white)));\n  --sklearn-color-border-box: var(--sg-text-color, var(--theme-code-foreground, var(--jp-content-font-color1, black)));\n  --sklearn-color-icon: #696969;\n\n  @media (prefers-color-scheme: dark) {\n    /* Redefinition of color scheme for dark theme */\n    --sklearn-color-text-on-default-background: var(--sg-text-color, var(--theme-code-foreground, var(--jp-content-font-color1, white)));\n    --sklearn-color-background: var(--sg-background-color, var(--theme-background, var(--jp-layout-color0, #111)));\n    --sklearn-color-border-box: var(--sg-text-color, var(--theme-code-foreground, var(--jp-content-font-color1, white)));\n    --sklearn-color-icon: #878787;\n  }\n}\n\n#sk-container-id-1 {\n  color: var(--sklearn-color-text);\n}\n\n#sk-container-id-1 pre {\n  padding: 0;\n}\n\n#sk-container-id-1 input.sk-hidden--visually {\n  border: 0;\n  clip: rect(1px 1px 1px 1px);\n  clip: rect(1px, 1px, 1px, 1px);\n  height: 1px;\n  margin: -1px;\n  overflow: hidden;\n  padding: 0;\n  position: absolute;\n  width: 1px;\n}\n\n#sk-container-id-1 div.sk-dashed-wrapped {\n  border: 1px dashed var(--sklearn-color-line);\n  margin: 0 0.4em 0.5em 0.4em;\n  box-sizing: border-box;\n  padding-bottom: 0.4em;\n  background-color: var(--sklearn-color-background);\n}\n\n#sk-container-id-1 div.sk-container {\n  /* jupyter's `normalize.less` sets `[hidden] { display: none; }`\n     but bootstrap.min.css set `[hidden] { display: none !important; }`\n     so we also need the `!important` here to be able to override the\n     default hidden behavior on the sphinx rendered scikit-learn.org.\n     See: https://github.com/scikit-learn/scikit-learn/issues/21755 */\n  display: inline-block !important;\n  position: relative;\n}\n\n#sk-container-id-1 div.sk-text-repr-fallback {\n  display: none;\n}\n\ndiv.sk-parallel-item,\ndiv.sk-serial,\ndiv.sk-item {\n  /* draw centered vertical line to link estimators */\n  background-image: linear-gradient(var(--sklearn-color-text-on-default-background), var(--sklearn-color-text-on-default-background));\n  background-size: 2px 100%;\n  background-repeat: no-repeat;\n  background-position: center center;\n}\n\n/* Parallel-specific style estimator block */\n\n#sk-container-id-1 div.sk-parallel-item::after {\n  content: \"\";\n  width: 100%;\n  border-bottom: 2px solid var(--sklearn-color-text-on-default-background);\n  flex-grow: 1;\n}\n\n#sk-container-id-1 div.sk-parallel {\n  display: flex;\n  align-items: stretch;\n  justify-content: center;\n  background-color: var(--sklearn-color-background);\n  position: relative;\n}\n\n#sk-container-id-1 div.sk-parallel-item {\n  display: flex;\n  flex-direction: column;\n}\n\n#sk-container-id-1 div.sk-parallel-item:first-child::after {\n  align-self: flex-end;\n  width: 50%;\n}\n\n#sk-container-id-1 div.sk-parallel-item:last-child::after {\n  align-self: flex-start;\n  width: 50%;\n}\n\n#sk-container-id-1 div.sk-parallel-item:only-child::after {\n  width: 0;\n}\n\n/* Serial-specific style estimator block */\n\n#sk-container-id-1 div.sk-serial {\n  display: flex;\n  flex-direction: column;\n  align-items: center;\n  background-color: var(--sklearn-color-background);\n  padding-right: 1em;\n  padding-left: 1em;\n}\n\n\n/* Toggleable style: style used for estimator/Pipeline/ColumnTransformer box that is\nclickable and can be expanded/collapsed.\n- Pipeline and ColumnTransformer use this feature and define the default style\n- Estimators will overwrite some part of the style using the `sk-estimator` class\n*/\n\n/* Pipeline and ColumnTransformer style (default) */\n\n#sk-container-id-1 div.sk-toggleable {\n  /* Default theme specific background. It is overwritten whether we have a\n  specific estimator or a Pipeline/ColumnTransformer */\n  background-color: var(--sklearn-color-background);\n}\n\n/* Toggleable label */\n#sk-container-id-1 label.sk-toggleable__label {\n  cursor: pointer;\n  display: block;\n  width: 100%;\n  margin-bottom: 0;\n  padding: 0.5em;\n  box-sizing: border-box;\n  text-align: center;\n}\n\n#sk-container-id-1 label.sk-toggleable__label-arrow:before {\n  /* Arrow on the left of the label */\n  content: \"▸\";\n  float: left;\n  margin-right: 0.25em;\n  color: var(--sklearn-color-icon);\n}\n\n#sk-container-id-1 label.sk-toggleable__label-arrow:hover:before {\n  color: var(--sklearn-color-text);\n}\n\n/* Toggleable content - dropdown */\n\n#sk-container-id-1 div.sk-toggleable__content {\n  max-height: 0;\n  max-width: 0;\n  overflow: hidden;\n  text-align: left;\n  /* unfitted */\n  background-color: var(--sklearn-color-unfitted-level-0);\n}\n\n#sk-container-id-1 div.sk-toggleable__content.fitted {\n  /* fitted */\n  background-color: var(--sklearn-color-fitted-level-0);\n}\n\n#sk-container-id-1 div.sk-toggleable__content pre {\n  margin: 0.2em;\n  border-radius: 0.25em;\n  color: var(--sklearn-color-text);\n  /* unfitted */\n  background-color: var(--sklearn-color-unfitted-level-0);\n}\n\n#sk-container-id-1 div.sk-toggleable__content.fitted pre {\n  /* unfitted */\n  background-color: var(--sklearn-color-fitted-level-0);\n}\n\n#sk-container-id-1 input.sk-toggleable__control:checked~div.sk-toggleable__content {\n  /* Expand drop-down */\n  max-height: 200px;\n  max-width: 100%;\n  overflow: auto;\n}\n\n#sk-container-id-1 input.sk-toggleable__control:checked~label.sk-toggleable__label-arrow:before {\n  content: \"▾\";\n}\n\n/* Pipeline/ColumnTransformer-specific style */\n\n#sk-container-id-1 div.sk-label input.sk-toggleable__control:checked~label.sk-toggleable__label {\n  color: var(--sklearn-color-text);\n  background-color: var(--sklearn-color-unfitted-level-2);\n}\n\n#sk-container-id-1 div.sk-label.fitted input.sk-toggleable__control:checked~label.sk-toggleable__label {\n  background-color: var(--sklearn-color-fitted-level-2);\n}\n\n/* Estimator-specific style */\n\n/* Colorize estimator box */\n#sk-container-id-1 div.sk-estimator input.sk-toggleable__control:checked~label.sk-toggleable__label {\n  /* unfitted */\n  background-color: var(--sklearn-color-unfitted-level-2);\n}\n\n#sk-container-id-1 div.sk-estimator.fitted input.sk-toggleable__control:checked~label.sk-toggleable__label {\n  /* fitted */\n  background-color: var(--sklearn-color-fitted-level-2);\n}\n\n#sk-container-id-1 div.sk-label label.sk-toggleable__label,\n#sk-container-id-1 div.sk-label label {\n  /* The background is the default theme color */\n  color: var(--sklearn-color-text-on-default-background);\n}\n\n/* On hover, darken the color of the background */\n#sk-container-id-1 div.sk-label:hover label.sk-toggleable__label {\n  color: var(--sklearn-color-text);\n  background-color: var(--sklearn-color-unfitted-level-2);\n}\n\n/* Label box, darken color on hover, fitted */\n#sk-container-id-1 div.sk-label.fitted:hover label.sk-toggleable__label.fitted {\n  color: var(--sklearn-color-text);\n  background-color: var(--sklearn-color-fitted-level-2);\n}\n\n/* Estimator label */\n\n#sk-container-id-1 div.sk-label label {\n  font-family: monospace;\n  font-weight: bold;\n  display: inline-block;\n  line-height: 1.2em;\n}\n\n#sk-container-id-1 div.sk-label-container {\n  text-align: center;\n}\n\n/* Estimator-specific */\n#sk-container-id-1 div.sk-estimator {\n  font-family: monospace;\n  border: 1px dotted var(--sklearn-color-border-box);\n  border-radius: 0.25em;\n  box-sizing: border-box;\n  margin-bottom: 0.5em;\n  /* unfitted */\n  background-color: var(--sklearn-color-unfitted-level-0);\n}\n\n#sk-container-id-1 div.sk-estimator.fitted {\n  /* fitted */\n  background-color: var(--sklearn-color-fitted-level-0);\n}\n\n/* on hover */\n#sk-container-id-1 div.sk-estimator:hover {\n  /* unfitted */\n  background-color: var(--sklearn-color-unfitted-level-2);\n}\n\n#sk-container-id-1 div.sk-estimator.fitted:hover {\n  /* fitted */\n  background-color: var(--sklearn-color-fitted-level-2);\n}\n\n/* Specification for estimator info (e.g. \"i\" and \"?\") */\n\n/* Common style for \"i\" and \"?\" */\n\n.sk-estimator-doc-link,\na:link.sk-estimator-doc-link,\na:visited.sk-estimator-doc-link {\n  float: right;\n  font-size: smaller;\n  line-height: 1em;\n  font-family: monospace;\n  background-color: var(--sklearn-color-background);\n  border-radius: 1em;\n  height: 1em;\n  width: 1em;\n  text-decoration: none !important;\n  margin-left: 1ex;\n  /* unfitted */\n  border: var(--sklearn-color-unfitted-level-1) 1pt solid;\n  color: var(--sklearn-color-unfitted-level-1);\n}\n\n.sk-estimator-doc-link.fitted,\na:link.sk-estimator-doc-link.fitted,\na:visited.sk-estimator-doc-link.fitted {\n  /* fitted */\n  border: var(--sklearn-color-fitted-level-1) 1pt solid;\n  color: var(--sklearn-color-fitted-level-1);\n}\n\n/* On hover */\ndiv.sk-estimator:hover .sk-estimator-doc-link:hover,\n.sk-estimator-doc-link:hover,\ndiv.sk-label-container:hover .sk-estimator-doc-link:hover,\n.sk-estimator-doc-link:hover {\n  /* unfitted */\n  background-color: var(--sklearn-color-unfitted-level-3);\n  color: var(--sklearn-color-background);\n  text-decoration: none;\n}\n\ndiv.sk-estimator.fitted:hover .sk-estimator-doc-link.fitted:hover,\n.sk-estimator-doc-link.fitted:hover,\ndiv.sk-label-container:hover .sk-estimator-doc-link.fitted:hover,\n.sk-estimator-doc-link.fitted:hover {\n  /* fitted */\n  background-color: var(--sklearn-color-fitted-level-3);\n  color: var(--sklearn-color-background);\n  text-decoration: none;\n}\n\n/* Span, style for the box shown on hovering the info icon */\n.sk-estimator-doc-link span {\n  display: none;\n  z-index: 9999;\n  position: relative;\n  font-weight: normal;\n  right: .2ex;\n  padding: .5ex;\n  margin: .5ex;\n  width: min-content;\n  min-width: 20ex;\n  max-width: 50ex;\n  color: var(--sklearn-color-text);\n  box-shadow: 2pt 2pt 4pt #999;\n  /* unfitted */\n  background: var(--sklearn-color-unfitted-level-0);\n  border: .5pt solid var(--sklearn-color-unfitted-level-3);\n}\n\n.sk-estimator-doc-link.fitted span {\n  /* fitted */\n  background: var(--sklearn-color-fitted-level-0);\n  border: var(--sklearn-color-fitted-level-3);\n}\n\n.sk-estimator-doc-link:hover span {\n  display: block;\n}\n\n/* \"?\"-specific style due to the `<a>` HTML tag */\n\n#sk-container-id-1 a.estimator_doc_link {\n  float: right;\n  font-size: 1rem;\n  line-height: 1em;\n  font-family: monospace;\n  background-color: var(--sklearn-color-background);\n  border-radius: 1rem;\n  height: 1rem;\n  width: 1rem;\n  text-decoration: none;\n  /* unfitted */\n  color: var(--sklearn-color-unfitted-level-1);\n  border: var(--sklearn-color-unfitted-level-1) 1pt solid;\n}\n\n#sk-container-id-1 a.estimator_doc_link.fitted {\n  /* fitted */\n  border: var(--sklearn-color-fitted-level-1) 1pt solid;\n  color: var(--sklearn-color-fitted-level-1);\n}\n\n/* On hover */\n#sk-container-id-1 a.estimator_doc_link:hover {\n  /* unfitted */\n  background-color: var(--sklearn-color-unfitted-level-3);\n  color: var(--sklearn-color-background);\n  text-decoration: none;\n}\n\n#sk-container-id-1 a.estimator_doc_link.fitted:hover {\n  /* fitted */\n  background-color: var(--sklearn-color-fitted-level-3);\n}\n</style><div id=\"sk-container-id-1\" class=\"sk-top-container\"><div class=\"sk-text-repr-fallback\"><pre>LogisticRegression(solver=&#x27;liblinear&#x27;)</pre><b>In a Jupyter environment, please rerun this cell to show the HTML representation or trust the notebook. <br />On GitHub, the HTML representation is unable to render, please try loading this page with nbviewer.org.</b></div><div class=\"sk-container\" hidden><div class=\"sk-item\"><div class=\"sk-estimator fitted sk-toggleable\"><input class=\"sk-toggleable__control sk-hidden--visually\" id=\"sk-estimator-id-1\" type=\"checkbox\" checked><label for=\"sk-estimator-id-1\" class=\"sk-toggleable__label fitted sk-toggleable__label-arrow fitted\">&nbsp;&nbsp;LogisticRegression<a class=\"sk-estimator-doc-link fitted\" rel=\"noreferrer\" target=\"_blank\" href=\"https://scikit-learn.org/1.4/modules/generated/sklearn.linear_model.LogisticRegression.html\">?<span>Documentation for LogisticRegression</span></a><span class=\"sk-estimator-doc-link fitted\">i<span>Fitted</span></span></label><div class=\"sk-toggleable__content fitted\"><pre>LogisticRegression(solver=&#x27;liblinear&#x27;)</pre></div> </div></div></div></div>"
     },
     "execution_count": 16,
     "metadata": {},
     "output_type": "execute_result"
    }
   ],
   "source": [
    "X = np.vstack(train_df_shuffled['features'].to_numpy())\n",
    "y = train_df_shuffled['label'].to_numpy()\n",
    "\n",
    "classifier = LogisticRegression(max_iter=100, solver='liblinear')\n",
    "\n",
    "classifier.fit(X,y)"
   ]
  },
  {
   "cell_type": "markdown",
   "source": [
    "Extract enclosing subgraphs for test edges and compute sorted adjacency matrices "
   ],
   "metadata": {
    "collapsed": false
   },
   "id": "82d9f8333de740e7"
  },
  {
   "cell_type": "code",
   "execution_count": 17,
   "id": "9ef71821-d6d1-44d3-b77a-b078a4b2f00c",
   "metadata": {
    "ExecuteTime": {
     "end_time": "2024-02-07T09:06:27.607505900Z",
     "start_time": "2024-02-07T08:53:59.657950900Z"
    }
   },
   "outputs": [
    {
     "name": "stderr",
     "output_type": "stream",
     "text": [
      "100%|██████████| 17690/17690 [12:27<00:00, 23.68it/s] \n"
     ]
    }
   ],
   "source": [
    "with open('musae_ES/musae_ES_test.edgelist', 'r') as file:\n",
    "    lines = file.readlines()\n",
    "\n",
    "test_edges = []\n",
    "\n",
    "for line in lines:\n",
    "    elements = line.strip().split()\n",
    "    edge = (int(elements[0]), int(elements[1]))\n",
    "    test_edges.append(edge)\n",
    "\n",
    "G_test = nx.from_edgelist(train_edges)\n",
    "G_test.add_edges_from(test_edges)\n",
    "G_test.remove_edges_from(nx.selfloop_edges(G_test))\n",
    "\n",
    "extracted_test_subgraphs = {}\n",
    "\n",
    "for (i,j) in test_edges:\n",
    "    if i != j: # ignore self loops\n",
    "        enclo_nodes = enclosing_subgraph_nodes(G_test, i, j, 10)\n",
    "        H_test = G_test.subgraph(enclo_nodes)\n",
    "        extracted_test_subgraphs[(i,j)] = H_test\n",
    "\n",
    "transformed_adj_matrices_test = {}\n",
    "\n",
    "for edge_test, H_test in tqdm(extracted_test_subgraphs.items()):\n",
    "    transformed_adj_matrices_test[edge_test] = process_graph(edge_test,H_test)"
   ]
  },
  {
   "cell_type": "markdown",
   "source": [
    "Generate synthetic negative samples for testing (edges not in test_edges OR train_edges) and do same procedure for them as above"
   ],
   "metadata": {
    "collapsed": false
   },
   "id": "aaaacd05deb33c38"
  },
  {
   "cell_type": "code",
   "execution_count": 18,
   "id": "3e68cf24-f3dc-4ae5-ad84-f59482dd4954",
   "metadata": {
    "ExecuteTime": {
     "end_time": "2024-02-07T09:13:11.381432400Z",
     "start_time": "2024-02-07T09:06:27.607505900Z"
    }
   },
   "outputs": [
    {
     "name": "stderr",
     "output_type": "stream",
     "text": [
      "100%|██████████| 35380/35380 [06:42<00:00, 87.91it/s] \n"
     ]
    }
   ],
   "source": [
    "# make sure negative samples are truly negative \n",
    "train_union_test = train_edges + test_edges\n",
    "negative_test_edges = negative_sampling(torch.as_tensor(np.transpose(train_union_test)), force_undirected=False, num_neg_samples=2*len(test_edges))\n",
    "\n",
    "negative_test_edges_list = []\n",
    "\n",
    "for i in range(len(negative_test_edges[0])):\n",
    "    negative_test_edges_list.append((int(negative_test_edges[0][i]),int(negative_test_edges[1][i])))\n",
    "    \n",
    "\n",
    "G_fake_test = nx.from_edgelist(train_edges)\n",
    "G_fake_test.add_edges_from(negative_test_edges_list)\n",
    "G_fake_test.remove_edges_from(nx.selfloop_edges(G_fake_test))\n",
    "\n",
    "extracted_subgraphs_fake_test = {}\n",
    "\n",
    "for (i,j) in negative_test_edges_list:\n",
    "    if i != j: # ignore self loops\n",
    "        enclo_nodes = enclosing_subgraph_nodes(G_fake_test, i, j, 10)\n",
    "        H_fake_test = G_fake_test.subgraph(enclo_nodes)\n",
    "        extracted_subgraphs_fake_test[(i,j)] = H_fake_test\n",
    "\n",
    "transformed_adj_matrices_fake_test = {}\n",
    "\n",
    "for edge_fake_test, H_fake_test in tqdm(extracted_subgraphs_fake_test.items()):\n",
    "    transformed_adj_matrices_fake_test[edge_fake_test] = process_graph(edge_fake_test,H_fake_test)"
   ]
  },
  {
   "cell_type": "code",
   "outputs": [
    {
     "data": {
      "text/plain": "93"
     },
     "execution_count": 19,
     "metadata": {},
     "output_type": "execute_result"
    }
   ],
   "source": [
    "cnt=0\n",
    "for i,j in negative_test_edges_list:\n",
    "    if G_test.has_edge(i,j) or G_test.has_edge(j,i):\n",
    "        cnt+=1 \n",
    "cnt"
   ],
   "metadata": {
    "collapsed": false,
    "ExecuteTime": {
     "end_time": "2024-02-07T09:13:11.421459300Z",
     "start_time": "2024-02-07T09:13:11.381432400Z"
    }
   },
   "id": "cd3a7ed8a817fb01",
   "execution_count": 19
  },
  {
   "cell_type": "markdown",
   "source": [
    "Prepare test data"
   ],
   "metadata": {
    "collapsed": false
   },
   "id": "cbf2f2cd856f94f1"
  },
  {
   "cell_type": "code",
   "outputs": [
    {
     "name": "stdout",
     "output_type": "stream",
     "text": [
      "       label                                           features\n",
      "0          1  [1.0, 0.0, 0.0, 0.0, 0.0, 0.0, 0.0, 1.0, 0.0, ...\n",
      "1          0  [1.0, 0.0, 0.0, 0.0, 0.0, 0.0, 0.0, 0.0, 0.0, ...\n",
      "2          0  [1.0, 0.0, 0.0, 0.0, 0.0, 0.0, 0.0, 0.0, 0.0, ...\n",
      "3          0  [1.0, 0.0, 1.0, 0.0, 0.0, 1.0, 0.0, 0.0, 0.0, ...\n",
      "4          0  [1.0, 0.0, 0.0, 0.0, 0.0, 0.0, 0.0, 0.0, 0.0, ...\n",
      "...      ...                                                ...\n",
      "53065      0  [1.0, 0.0, 0.0, 0.0, 0.0, 1.0, 0.0, 0.0, 0.0, ...\n",
      "53066      0  [1.0, 0.0, 1.0, 0.0, 0.0, 0.0, 1.0, 0.0, 0.0, ...\n",
      "53067      0  [1.0, 0.0, 0.0, 0.0, 0.0, 0.0, 0.0, 0.0, 0.0, ...\n",
      "53068      0  [0.0, 1.0, 1.0, 0.0, 1.0, 0.0, 0.0, 0.0, 1.0, ...\n",
      "53069      1  [0.0, 1.0, 0.0, 0.0, 0.0, 1.0, 0.0, 0.0, 1.0, ...\n",
      "\n",
      "[53070 rows x 2 columns]\n"
     ]
    }
   ],
   "source": [
    "test_data = []\n",
    "\n",
    "for matrix in transformed_adj_matrices_test.values():\n",
    "    flattened_matrix = flatten_matrix(matrix, {(0, 1), (1, 0)})\n",
    "    test_data.append({'label':1, 'features': flattened_matrix})\n",
    "\n",
    "for matrix in transformed_adj_matrices_fake_test.values():\n",
    "    flattened_matrix = flatten_matrix(matrix, {(0, 1), (1, 0)})\n",
    "    test_data.append({'label':0, 'features': flattened_matrix})  \n",
    "\n",
    "test_df = pd.DataFrame(test_data)\n",
    "test_df_shuffled = test_df.iloc[np.random.permutation(len(test_df))].reset_index(drop=True)\n",
    "print(test_df_shuffled)"
   ],
   "metadata": {
    "collapsed": false,
    "ExecuteTime": {
     "end_time": "2024-02-07T09:13:12.457598400Z",
     "start_time": "2024-02-07T09:13:11.417457400Z"
    }
   },
   "id": "463125c29c06930f",
   "execution_count": 20
  },
  {
   "cell_type": "code",
   "outputs": [
    {
     "name": "stdout",
     "output_type": "stream",
     "text": [
      "Accuracy: 0.8046542303\n",
      "              precision    recall  f1-score   support\n",
      "\n",
      "           0       0.86      0.85      0.85     35380\n",
      "           1       0.70      0.72      0.71     17690\n",
      "\n",
      "    accuracy                           0.80     53070\n",
      "   macro avg       0.78      0.78      0.78     53070\n",
      "weighted avg       0.81      0.80      0.81     53070\n"
     ]
    }
   ],
   "source": [
    "X_test = np.vstack(test_df_shuffled['features'].to_numpy())\n",
    "y_test = test_df_shuffled['label'].to_numpy()\n",
    "\n",
    "y_pred = classifier.predict(X_test)\n",
    "\n",
    "accuracy = accuracy_score(y_test, y_pred)\n",
    "\n",
    "print(f'Accuracy: {accuracy:.10f}')\n",
    "print(classification_report(y_test, y_pred))"
   ],
   "metadata": {
    "collapsed": false,
    "ExecuteTime": {
     "end_time": "2024-02-07T09:13:12.725656300Z",
     "start_time": "2024-02-07T09:13:12.457598400Z"
    }
   },
   "id": "ccde0aaccb15ce27",
   "execution_count": 21
  },
  {
   "cell_type": "code",
   "outputs": [
    {
     "data": {
      "text/plain": "0.8552546278617265"
     },
     "execution_count": 22,
     "metadata": {},
     "output_type": "execute_result"
    }
   ],
   "source": [
    "from sklearn.metrics import roc_auc_score\n",
    "\n",
    "roc_auc_score(y_test, classifier.predict_proba(X_test)[:, 1])"
   ],
   "metadata": {
    "collapsed": false,
    "ExecuteTime": {
     "end_time": "2024-02-07T09:13:12.765657100Z",
     "start_time": "2024-02-07T09:13:12.729656300Z"
    }
   },
   "id": "e3432cd7af320047",
   "execution_count": 22
  }
 ],
 "metadata": {
  "kernelspec": {
   "display_name": "Python 3 (ipykernel)",
   "language": "python",
   "name": "python3"
  },
  "language_info": {
   "codemirror_mode": {
    "name": "ipython",
    "version": 3
   },
   "file_extension": ".py",
   "mimetype": "text/x-python",
   "name": "python",
   "nbconvert_exporter": "python",
   "pygments_lexer": "ipython3",
   "version": "3.11.4"
  }
 },
 "nbformat": 4,
 "nbformat_minor": 5
}
